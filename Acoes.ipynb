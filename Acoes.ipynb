{
  "nbformat": 4,
  "nbformat_minor": 0,
  "metadata": {
    "colab": {
      "name": "Acoes.ipynb",
      "provenance": [],
      "collapsed_sections": [],
      "authorship_tag": "ABX9TyNZb6x7IjEUm8QnrAWZmWT0",
      "include_colab_link": true
    },
    "kernelspec": {
      "name": "python3",
      "display_name": "Python 3"
    },
    "language_info": {
      "name": "python"
    }
  },
  "cells": [
    {
      "cell_type": "markdown",
      "metadata": {
        "id": "view-in-github",
        "colab_type": "text"
      },
      "source": [
        "<a href=\"https://colab.research.google.com/github/renannevesr/Trader/blob/main/Acoes.ipynb\" target=\"_parent\"><img src=\"https://colab.research.google.com/assets/colab-badge.svg\" alt=\"Open In Colab\"/></a>"
      ]
    },
    {
      "cell_type": "code",
      "execution_count": null,
      "metadata": {
        "id": "88I3LKFvBdAV"
      },
      "outputs": [],
      "source": [
        "from pandas_datareader import data as web\n",
        "import pandas as pd\n",
        "import matplotlib.pyplot as plt"
      ]
    },
    {
      "cell_type": "code",
      "source": [
        "empresas = ('BBAS3', 'BBDC4', 'BIDI11', 'CASH3' ,'CIEL3', 'MGLU3' ,'ITSA4', 'PETR4', 'SEER3', 'SHOW3')\n"
      ],
      "metadata": {
        "id": "xJWgtIbTCMBx"
      },
      "execution_count": null,
      "outputs": []
    },
    {
      "cell_type": "code",
      "source": [
        "df = [(('High', 'Low', 'Open', 'Close', 'Volume', 'Adj Close'))]\n",
        "df = pd.DataFrame(df, columns=['High', 'Low',\n",
        "                  'Open', 'Close', 'Volume', 'Adj Close'])\n",
        "df_emp = [(('Empresa'))]\n",
        "df_emp = pd.DataFrame(df_emp, columns=['Empresa'])"
      ],
      "metadata": {
        "id": "pvV9R3-kCtyW"
      },
      "execution_count": null,
      "outputs": []
    },
    {
      "cell_type": "code",
      "source": [
        "for empresa in empresas['Empresas']:\n",
        "    try:\n",
        "        cotacoes = web.DataReader(f'{empresa}.SA', data_source='yahoo',\n",
        "                                  start=\"01-01-2013\", end=\"03-30-2022\")\n",
        "        df = df.append(cotacoes)\n",
        "    except:\n",
        "        print(f\"Não foi possível localizar os dados da {empresa}\")"
      ],
      "metadata": {
        "colab": {
          "base_uri": "https://localhost:8080/",
          "height": 235
        },
        "id": "6eO9tuQEDj-0",
        "outputId": "547527d5-ca07-4197-f07a-64d24666be99"
      },
      "execution_count": null,
      "outputs": [
        {
          "output_type": "error",
          "ename": "TypeError",
          "evalue": "ignored",
          "traceback": [
            "\u001b[0;31m---------------------------------------------------------------------------\u001b[0m",
            "\u001b[0;31mTypeError\u001b[0m                                 Traceback (most recent call last)",
            "\u001b[0;32m<ipython-input-6-fea9ad27de2d>\u001b[0m in \u001b[0;36m<module>\u001b[0;34m()\u001b[0m\n\u001b[0;32m----> 1\u001b[0;31m \u001b[0;32mfor\u001b[0m \u001b[0mempresa\u001b[0m \u001b[0;32min\u001b[0m \u001b[0mempresas\u001b[0m\u001b[0;34m[\u001b[0m\u001b[0;34m'Empresas'\u001b[0m\u001b[0;34m]\u001b[0m\u001b[0;34m:\u001b[0m\u001b[0;34m\u001b[0m\u001b[0;34m\u001b[0m\u001b[0m\n\u001b[0m\u001b[1;32m      2\u001b[0m     \u001b[0;32mtry\u001b[0m\u001b[0;34m:\u001b[0m\u001b[0;34m\u001b[0m\u001b[0;34m\u001b[0m\u001b[0m\n\u001b[1;32m      3\u001b[0m         cotacoes = web.DataReader(f'{empresa}.SA', data_source='yahoo',\n\u001b[1;32m      4\u001b[0m                                   start=\"01-01-2013\", end=\"03-30-2022\")\n\u001b[1;32m      5\u001b[0m         \u001b[0mdf\u001b[0m \u001b[0;34m=\u001b[0m \u001b[0mdf\u001b[0m\u001b[0;34m.\u001b[0m\u001b[0mappend\u001b[0m\u001b[0;34m(\u001b[0m\u001b[0mcotacoes\u001b[0m\u001b[0;34m)\u001b[0m\u001b[0;34m\u001b[0m\u001b[0;34m\u001b[0m\u001b[0m\n",
            "\u001b[0;31mTypeError\u001b[0m: tuple indices must be integers or slices, not str"
          ]
        }
      ]
    }
  ]
}